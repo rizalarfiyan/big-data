{
 "cells": [
  {
   "cell_type": "markdown",
   "id": "3061d833-0780-46ed-96e2-add220e68aa8",
   "metadata": {},
   "source": [
    "# Praktikum 3\n",
    "#### Muhamad Rizal Arfiyan - 22.11.5227 - IF11\n",
    "#### [https://github.com/rizalarfiyan/big-data](https://github.com/rizalarfiyan/big-data)"
   ]
  },
  {
   "cell_type": "markdown",
   "id": "00fa093a-3e77-4a59-9663-caff9a6da90a",
   "metadata": {
    "tags": []
   },
   "source": [
    "## 1. Import library"
   ]
  },
  {
   "cell_type": "code",
   "execution_count": 1,
   "id": "26ac946f-161f-448d-876c-224fca331ea7",
   "metadata": {
    "tags": []
   },
   "outputs": [],
   "source": [
    "import matplotlib.pyplot as plt\n",
    "import numpy as np\n",
    "import pandas as pd\n",
    "import seaborn as sns"
   ]
  },
  {
   "cell_type": "markdown",
   "id": "e97777fb-55c5-48f4-90d2-6abb208fdecb",
   "metadata": {},
   "source": [
    "## 2. Baca file CSV menggunakan library pandas"
   ]
  },
  {
   "cell_type": "code",
   "execution_count": 2,
   "id": "47c6cc87-f62d-4c0b-8cc2-cfa35983a0e1",
   "metadata": {
    "tags": []
   },
   "outputs": [
    {
     "data": {
      "text/html": [
       "<div>\n",
       "<style scoped>\n",
       "    .dataframe tbody tr th:only-of-type {\n",
       "        vertical-align: middle;\n",
       "    }\n",
       "\n",
       "    .dataframe tbody tr th {\n",
       "        vertical-align: top;\n",
       "    }\n",
       "\n",
       "    .dataframe thead th {\n",
       "        text-align: right;\n",
       "    }\n",
       "</style>\n",
       "<table border=\"1\" class=\"dataframe\">\n",
       "  <thead>\n",
       "    <tr style=\"text-align: right;\">\n",
       "      <th></th>\n",
       "      <th>brand_name</th>\n",
       "      <th>model</th>\n",
       "      <th>price</th>\n",
       "      <th>rating</th>\n",
       "      <th>has_5g</th>\n",
       "      <th>has_nfc</th>\n",
       "      <th>has_ir_blaster</th>\n",
       "      <th>processor_brand</th>\n",
       "      <th>num_cores</th>\n",
       "      <th>processor_speed</th>\n",
       "      <th>...</th>\n",
       "      <th>refresh_rate</th>\n",
       "      <th>num_rear_cameras</th>\n",
       "      <th>num_front_cameras</th>\n",
       "      <th>os</th>\n",
       "      <th>primary_camera_rear</th>\n",
       "      <th>primary_camera_front</th>\n",
       "      <th>extended_memory_available</th>\n",
       "      <th>extended_upto</th>\n",
       "      <th>resolution_width</th>\n",
       "      <th>resolution_height</th>\n",
       "    </tr>\n",
       "  </thead>\n",
       "  <tbody>\n",
       "    <tr>\n",
       "      <th>0</th>\n",
       "      <td>oneplus</td>\n",
       "      <td>OnePlus 11 5G</td>\n",
       "      <td>54999</td>\n",
       "      <td>89.0</td>\n",
       "      <td>True</td>\n",
       "      <td>True</td>\n",
       "      <td>False</td>\n",
       "      <td>snapdragon</td>\n",
       "      <td>8.0</td>\n",
       "      <td>3.2</td>\n",
       "      <td>...</td>\n",
       "      <td>120</td>\n",
       "      <td>3</td>\n",
       "      <td>1.0</td>\n",
       "      <td>android</td>\n",
       "      <td>50.0</td>\n",
       "      <td>16.0</td>\n",
       "      <td>0</td>\n",
       "      <td>NaN</td>\n",
       "      <td>1440</td>\n",
       "      <td>3216</td>\n",
       "    </tr>\n",
       "    <tr>\n",
       "      <th>1</th>\n",
       "      <td>oneplus</td>\n",
       "      <td>OnePlus Nord CE 2 Lite 5G</td>\n",
       "      <td>19989</td>\n",
       "      <td>81.0</td>\n",
       "      <td>True</td>\n",
       "      <td>False</td>\n",
       "      <td>False</td>\n",
       "      <td>snapdragon</td>\n",
       "      <td>8.0</td>\n",
       "      <td>2.2</td>\n",
       "      <td>...</td>\n",
       "      <td>120</td>\n",
       "      <td>3</td>\n",
       "      <td>1.0</td>\n",
       "      <td>android</td>\n",
       "      <td>64.0</td>\n",
       "      <td>16.0</td>\n",
       "      <td>1</td>\n",
       "      <td>1024.0</td>\n",
       "      <td>1080</td>\n",
       "      <td>2412</td>\n",
       "    </tr>\n",
       "    <tr>\n",
       "      <th>2</th>\n",
       "      <td>samsung</td>\n",
       "      <td>Samsung Galaxy A14 5G</td>\n",
       "      <td>16499</td>\n",
       "      <td>75.0</td>\n",
       "      <td>True</td>\n",
       "      <td>False</td>\n",
       "      <td>False</td>\n",
       "      <td>exynos</td>\n",
       "      <td>8.0</td>\n",
       "      <td>2.4</td>\n",
       "      <td>...</td>\n",
       "      <td>90</td>\n",
       "      <td>3</td>\n",
       "      <td>1.0</td>\n",
       "      <td>android</td>\n",
       "      <td>50.0</td>\n",
       "      <td>13.0</td>\n",
       "      <td>1</td>\n",
       "      <td>1024.0</td>\n",
       "      <td>1080</td>\n",
       "      <td>2408</td>\n",
       "    </tr>\n",
       "    <tr>\n",
       "      <th>3</th>\n",
       "      <td>motorola</td>\n",
       "      <td>Motorola Moto G62 5G</td>\n",
       "      <td>14999</td>\n",
       "      <td>81.0</td>\n",
       "      <td>True</td>\n",
       "      <td>False</td>\n",
       "      <td>False</td>\n",
       "      <td>snapdragon</td>\n",
       "      <td>8.0</td>\n",
       "      <td>2.2</td>\n",
       "      <td>...</td>\n",
       "      <td>120</td>\n",
       "      <td>3</td>\n",
       "      <td>1.0</td>\n",
       "      <td>android</td>\n",
       "      <td>50.0</td>\n",
       "      <td>16.0</td>\n",
       "      <td>1</td>\n",
       "      <td>1024.0</td>\n",
       "      <td>1080</td>\n",
       "      <td>2400</td>\n",
       "    </tr>\n",
       "    <tr>\n",
       "      <th>4</th>\n",
       "      <td>realme</td>\n",
       "      <td>Realme 10 Pro Plus</td>\n",
       "      <td>24999</td>\n",
       "      <td>82.0</td>\n",
       "      <td>True</td>\n",
       "      <td>False</td>\n",
       "      <td>False</td>\n",
       "      <td>dimensity</td>\n",
       "      <td>8.0</td>\n",
       "      <td>2.6</td>\n",
       "      <td>...</td>\n",
       "      <td>120</td>\n",
       "      <td>3</td>\n",
       "      <td>1.0</td>\n",
       "      <td>android</td>\n",
       "      <td>108.0</td>\n",
       "      <td>16.0</td>\n",
       "      <td>0</td>\n",
       "      <td>NaN</td>\n",
       "      <td>1080</td>\n",
       "      <td>2412</td>\n",
       "    </tr>\n",
       "  </tbody>\n",
       "</table>\n",
       "<p>5 rows × 26 columns</p>\n",
       "</div>"
      ],
      "text/plain": [
       "  brand_name                      model  price  rating  has_5g  has_nfc  \\\n",
       "0    oneplus              OnePlus 11 5G  54999    89.0    True     True   \n",
       "1    oneplus  OnePlus Nord CE 2 Lite 5G  19989    81.0    True    False   \n",
       "2    samsung      Samsung Galaxy A14 5G  16499    75.0    True    False   \n",
       "3   motorola       Motorola Moto G62 5G  14999    81.0    True    False   \n",
       "4     realme         Realme 10 Pro Plus  24999    82.0    True    False   \n",
       "\n",
       "   has_ir_blaster processor_brand  num_cores  processor_speed  ...  \\\n",
       "0           False      snapdragon        8.0              3.2  ...   \n",
       "1           False      snapdragon        8.0              2.2  ...   \n",
       "2           False          exynos        8.0              2.4  ...   \n",
       "3           False      snapdragon        8.0              2.2  ...   \n",
       "4           False       dimensity        8.0              2.6  ...   \n",
       "\n",
       "   refresh_rate  num_rear_cameras  num_front_cameras       os  \\\n",
       "0           120                 3                1.0  android   \n",
       "1           120                 3                1.0  android   \n",
       "2            90                 3                1.0  android   \n",
       "3           120                 3                1.0  android   \n",
       "4           120                 3                1.0  android   \n",
       "\n",
       "   primary_camera_rear  primary_camera_front  extended_memory_available  \\\n",
       "0                 50.0                  16.0                          0   \n",
       "1                 64.0                  16.0                          1   \n",
       "2                 50.0                  13.0                          1   \n",
       "3                 50.0                  16.0                          1   \n",
       "4                108.0                  16.0                          0   \n",
       "\n",
       "   extended_upto  resolution_width resolution_height  \n",
       "0            NaN              1440              3216  \n",
       "1         1024.0              1080              2412  \n",
       "2         1024.0              1080              2408  \n",
       "3         1024.0              1080              2400  \n",
       "4            NaN              1080              2412  \n",
       "\n",
       "[5 rows x 26 columns]"
      ]
     },
     "execution_count": 2,
     "metadata": {},
     "output_type": "execute_result"
    }
   ],
   "source": [
    "path = \"./smartphones_cleaned_v6.csv\"\n",
    "data = pd.read_csv(path)\n",
    "data.head()"
   ]
  },
  {
   "cell_type": "markdown",
   "id": "edd929c3-1263-49a3-9546-4e15563fec2d",
   "metadata": {},
   "source": [
    "## 3. Normalisasi data\n",
    "- Normalisasi data dengan mengubah nilai kosong (null) dengan dengan 0\n",
    "- Mengubah nilai boolean True dan False menjadi 1 dan 0\n",
    "- Mengurutkan data jenis menjadi angka, semisal android = 0, ios = 1, other = 2, dst. Pada cara ini bisa menggunakan library pandas fungsi factorize ([documentation](https://pandas.pydata.org/docs/reference/api/pandas.factorize.html))."
   ]
  },
  {
   "cell_type": "raw",
   "id": "7fd4cd7e-1adf-4e51-996c-6db142c16088",
   "metadata": {
    "tags": []
   },
   "source": [
    "data.fillna(0, inplace=True)\n",
    "\n",
    "for column in data.select_dtypes(include=\"bool\").columns:\n",
    "    data[column] = data[column].astype(int)\n",
    "\n",
    "data[\"os\"] = pd.factorize(data[\"os\"])[0]\n",
    "data[\"brand_name\"] = pd.factorize(data[\"brand_name\"])[0]\n",
    "data[\"processor_brand\"] = pd.factorize(data[\"processor_brand\"])[0]\n",
    "\n",
    "print(data.head())"
   ]
  },
  {
   "cell_type": "markdown",
   "id": "b5d58aaf-3f3d-41c0-a2dd-51fe10134efa",
   "metadata": {},
   "source": [
    "## 4. Cari nilai korelasi tertinggi\n",
    "- Bisa menggunakan library pandas fungsi corr untuk korelasi di setiap kolom ([documentation](https://pandas.pydata.org/docs/reference/api/pandas.DataFrame.corr.html)). Attribute numeric_only=True adalah untuk memfilter hanya kolom yang bertipe data numeric (int, float, unsigned int, dll)."
   ]
  },
  {
   "cell_type": "code",
   "execution_count": 4,
   "id": "7cecf67d-3ed7-4eb4-80c1-f2f203923748",
   "metadata": {
    "tags": []
   },
   "outputs": [
    {
     "name": "stdout",
     "output_type": "stream",
     "text": [
      "price                        1.000000\n",
      "internal_memory              0.557168\n",
      "has_nfc                      0.470951\n",
      "ram_capacity                 0.386002\n",
      "resolution_height            0.353578\n",
      "os                           0.348308\n",
      "resolution_width             0.340592\n",
      "has_5g                       0.305066\n",
      "refresh_rate                 0.244115\n",
      "processor_speed              0.175386\n",
      "primary_camera_front         0.146122\n",
      "fast_charging                0.139824\n",
      "num_rear_cameras             0.125330\n",
      "fast_charging_available      0.116739\n",
      "screen_size                  0.113253\n",
      "primary_camera_rear          0.092095\n",
      "brand_name                   0.089374\n",
      "num_front_cameras            0.055305\n",
      "has_ir_blaster              -0.015807\n",
      "num_cores                   -0.104890\n",
      "rating                      -0.129441\n",
      "processor_brand             -0.141318\n",
      "battery_capacity            -0.189916\n",
      "extended_upto               -0.272838\n",
      "extended_memory_available   -0.448628\n",
      "Name: price, dtype: float64\n"
     ]
    }
   ],
   "source": [
    "correlation_matrix = data.corr(numeric_only=True)\n",
    "price_correlation = correlation_matrix[\"price\"].sort_values(ascending=False)\n",
    "print(price_correlation)"
   ]
  },
  {
   "cell_type": "markdown",
   "id": "32c6a3ae-4b4f-44ab-9ee4-608c9549efc5",
   "metadata": {
    "tags": []
   },
   "source": [
    "## 5. Cek korelasi menggunakan rumus korelasi pearson"
   ]
  },
  {
   "cell_type": "code",
   "execution_count": 5,
   "id": "fd735686-cbe8-4220-a483-16cea32f5738",
   "metadata": {
    "tags": []
   },
   "outputs": [
    {
     "name": "stdout",
     "output_type": "stream",
     "text": [
      "The Pearson Correlation Coefficient is 0.5571676328262642  with a P-value of P = 5.281230323250923e-81\n"
     ]
    }
   ],
   "source": [
    "from scipy import stats\n",
    "\n",
    "pearson_coef, p_value = stats.pearsonr(data[\"internal_memory\"], data[\"price\"])\n",
    "print(\n",
    "    \"The Pearson Correlation Coefficient is\",\n",
    "    pearson_coef,\n",
    "    \" with a P-value of P =\",\n",
    "    p_value,\n",
    ")"
   ]
  },
  {
   "cell_type": "markdown",
   "id": "6c2ea4c8-d964-4a87-8811-cf1e3f07559d",
   "metadata": {},
   "source": [
    "## 6. Cek nama kolom dan value korelasi tertinggi"
   ]
  },
  {
   "cell_type": "code",
   "execution_count": 6,
   "id": "25d5b3c9-e5a0-4acf-b170-68b298d03298",
   "metadata": {
    "tags": []
   },
   "outputs": [
    {
     "name": "stdout",
     "output_type": "stream",
     "text": [
      "internal_memory  -  0.5571676328262649\n"
     ]
    }
   ],
   "source": [
    "highest_variable = price_correlation.index[1]\n",
    "highest_value = price_correlation[1]\n",
    "print(highest_variable, \" - \", highest_value)"
   ]
  },
  {
   "cell_type": "markdown",
   "id": "0082640f-667b-47cd-9ac4-88c739c50d87",
   "metadata": {
    "tags": []
   },
   "source": [
    "## 7. Tampilkan dengan diagram scatter plot"
   ]
  },
  {
   "cell_type": "code",
   "execution_count": 7,
   "id": "352e4b3f-73d6-4480-8857-e2140e1ee89f",
   "metadata": {
    "tags": []
   },
   "outputs": [
    {
     "data": {
      "image/png": "[encoded data removed]",
      "text/plain": [
       "<Figure size 1000x600 with 1 Axes>"
      ]
     },
     "metadata": {},
     "output_type": "display_data"
    }
   ],
   "source": [
    "plt.figure(figsize=(10, 6))\n",
    "sns.scatterplot(x=highest_variable, y=\"price\", data=data)\n",
    "plt.title(\n",
    "    f\"Scatterplot of Price vs {highest_variable}\\nCorrelation: {highest_value:.2f}\"\n",
    ")\n",
    "plt.xlabel(highest_variable)\n",
    "plt.ylabel(\"Price (INR)\")\n",
    "plt.grid(True)\n",
    "plt.text(\n",
    "    0.5,\n",
    "    0.5,\n",
    "    \"Muhamad Rizal Arfiyan - 22.11.5227\",\n",
    "    fontsize=24,\n",
    "    color=\"black\",\n",
    "    ha=\"center\",\n",
    "    va=\"center\",\n",
    "    alpha=0.2,\n",
    "    transform=plt.gcf().transFigure,\n",
    "    rotation=30,\n",
    ")\n",
    "plt.show()"
   ]
  }
 ],
 "metadata": {
  "kernelspec": {
   "display_name": "Python 3 (ipykernel)",
   "language": "python",
   "name": "python3"
  },
  "language_info": {
   "codemirror_mode": {
    "name": "ipython",
    "version": 3
   },
   "file_extension": ".py",
   "mimetype": "text/x-python",
   "name": "python",
   "nbconvert_exporter": "python",
   "pygments_lexer": "ipython3",
   "version": "3.11.5"
  }
 },
 "nbformat": 4,
 "nbformat_minor": 5
}
